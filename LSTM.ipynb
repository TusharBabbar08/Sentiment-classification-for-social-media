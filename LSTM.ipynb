{
 "cells": [
  {
   "cell_type": "code",
   "execution_count": 1,
   "id": "fd3655fa-415e-4610-9e88-1d8b3af7f96c",
   "metadata": {},
   "outputs": [
    {
     "ename": "NameError",
     "evalue": "name 'vocab' is not defined",
     "output_type": "error",
     "traceback": [
      "\u001b[1;31m---------------------------------------------------------------------------\u001b[0m",
      "\u001b[1;31mNameError\u001b[0m                                 Traceback (most recent call last)",
      "\u001b[1;32m~\\AppData\\Local\\Temp/ipykernel_7036/2516766583.py\u001b[0m in \u001b[0;36m<module>\u001b[1;34m\u001b[0m\n\u001b[0;32m      9\u001b[0m \u001b[1;33m\u001b[0m\u001b[0m\n\u001b[0;32m     10\u001b[0m \u001b[1;33m\u001b[0m\u001b[0m\n\u001b[1;32m---> 11\u001b[1;33m \u001b[0mmatrix_len\u001b[0m \u001b[1;33m=\u001b[0m \u001b[0mlen\u001b[0m\u001b[1;33m(\u001b[0m\u001b[0mvocab\u001b[0m\u001b[1;33m)\u001b[0m\u001b[1;33m\u001b[0m\u001b[1;33m\u001b[0m\u001b[0m\n\u001b[0m\u001b[0;32m     12\u001b[0m \u001b[0mweights_matrix\u001b[0m \u001b[1;33m=\u001b[0m \u001b[0mnp\u001b[0m\u001b[1;33m.\u001b[0m\u001b[0mzeros\u001b[0m\u001b[1;33m(\u001b[0m\u001b[1;33m(\u001b[0m\u001b[0mmatrix_len\u001b[0m\u001b[1;33m,\u001b[0m \u001b[1;36m100\u001b[0m\u001b[1;33m)\u001b[0m\u001b[1;33m)\u001b[0m\u001b[1;33m\u001b[0m\u001b[1;33m\u001b[0m\u001b[0m\n\u001b[0;32m     13\u001b[0m \u001b[0mwords_found\u001b[0m \u001b[1;33m=\u001b[0m \u001b[1;36m0\u001b[0m\u001b[1;33m\u001b[0m\u001b[1;33m\u001b[0m\u001b[0m\n",
      "\u001b[1;31mNameError\u001b[0m: name 'vocab' is not defined"
     ]
    }
   ],
   "source": [
    "# # Building Glove\n",
    "\n",
    "# glove = {}\n",
    "\n",
    "# with open('glove.6B.100d.txt', 'rb') as f:\n",
    "#     for l in f:\n",
    "#         line = str(l)\n",
    "#         line = line[2:len(line) - 3].split(' ')\n",
    "#         val = [float(line[i]) for i in range(1, len(line))]\n",
    "#         glove[line[0]] = val\n",
    "\n",
    "\n",
    "# matrix_len = len(vocab)\n",
    "# weights_matrix = np.zeros((matrix_len, 100))\n",
    "# words_found = 0\n",
    "\n",
    "# for i, word in enumerate(vocab):\n",
    "#     try: \n",
    "#         weights_matrix[i] = glove[word]\n",
    "#         words_found += 1\n",
    "#     except KeyError:\n",
    "#         weights_matrix[i] = np.random.normal(scale=0.6, size=(100, ))\n",
    "# weights_matrix = torch.tensor(weights_matrix)"
   ]
  },
  {
   "cell_type": "code",
   "execution_count": 2,
   "id": "e7055fc8-86a7-491e-a9c0-d3572afa90a2",
   "metadata": {},
   "outputs": [],
   "source": [
    "import torch\n",
    "import torch.nn as nn\n",
    "import torch.nn.functional as F\n",
    "from torch.utils.data import DataLoader, TensorDataset\n",
    "import re\n",
    "from torchtext.data.utils import get_tokenizer\n",
    "from torch.nn.utils.rnn import pad_sequence\n",
    "import re"
   ]
  },
  {
   "cell_type": "code",
   "execution_count": 5,
   "id": "e61512ce-c84d-433b-977d-55df8f9471fc",
   "metadata": {},
   "outputs": [],
   "source": [
    "# # BUILDING\n",
    "\n",
    "# def create_emb_layer(weights_matrix, non_trainable=False):\n",
    "#     num_embeddings, embedding_dim = weights_matrix.size()\n",
    "#     emb_layer = nn.Embedding(num_embeddings, embedding_dim)\n",
    "#     emb_layer.load_state_dict({'weight': weights_matrix})\n",
    "#     if non_trainable:\n",
    "#         emb_layer.weight.requires_grad = False\n",
    "\n",
    "#     return emb_layer, num_embeddings, embedding_dim\n",
    "\n",
    "# class LSTMClassifier(nn.Module):\n",
    "#     def __init__(self, weights_matrix, hidden_size, num_layers, num_classes, dropout = 0.25):\n",
    "#         super(LSTMClassifier, self).__init__()\n",
    "#         self.num_layers = num_layers\n",
    "#         self.hidden_size = hidden_size\n",
    "#         self.embedding, num_embeddings, embedding_dim = create_emb_layer(weights_matrix, non_trainable=True)\n",
    "#         self.LSTM = nn.LSTM(embedding_dim, self.hidden_size, self.num_layers, dropout=dropout, batch_first=True)\n",
    "#         self.dropout = nn.Dropout(dropout)\n",
    "#         self.dense = nn.Linear(hidden_size, 256)\n",
    "#         self.fc = nn.Linear(256, num_classes)\n",
    "\n",
    "#     def forward(self, x):\n",
    "#         embed = self.embedding(x)\n",
    "#         hidden = self.init_hidden(x.size(0))\n",
    "#         out, _ = self.LSTM(embed, hidden)\n",
    "#         out = out[:, -1, :]\n",
    "#         out = self.dropout(out)\n",
    "#         out = F.relu(self.dense(out))\n",
    "#         out = self.fc(out)\n",
    "#         return torch.exp(F.log_softmax(out, dim=1))\n",
    "    \n",
    "#     def init_hidden(self, batch_size):\n",
    "#         weight = next(self.parameters()).data\n",
    "#         hidden = (weight.new(self.num_layers, batch_size, self.hidden_size).zero_(),\n",
    "#                       weight.new(self.num_layers, batch_size, self.hidden_size).zero_())\n",
    "#         return hidden"
   ]
  },
  {
   "cell_type": "code",
   "execution_count": 1,
   "id": "5516a518-318e-4a4d-b2f0-683cfd6bdfa0",
   "metadata": {},
   "outputs": [],
   "source": [
    "# ## TRAINING THE LSTM\n",
    "\n",
    "# vocab_size = len(vocab)\n",
    "# embedding_dim = 100 # Since we have choosen glove embedding 100 dimenstion version\n",
    "# hidden_size = 500\n",
    "# num_classes = 3\n",
    "# num_epochs = 2\n",
    "# num_layers = 2\n",
    "# EPOCHS = 10\n",
    "# lr=0.001\n",
    "# criterion = nn.BCELoss()\n",
    "# clip = 5\n",
    "\n",
    "# net = LSTMClassifier(weights_matrix, hidden_size, num_layers, num_classes)\n",
    "# optimizer = torch.optim.Adam(net.parameters(), lr=lr)\n",
    "# input = torch.randint(1, 4, (5, 3))\n",
    "# output = net(input)\n",
    "# net.train()\n",
    "# for i in range(EPOCHS):\n",
    "#     counter = 0\n",
    "#     print('Epoch - '+str(i + 1))\n",
    "#     for inputs, labels in train_dataloader:\n",
    "#         counter += 1\n",
    "#         net.zero_grad()\n",
    "#         # print(inputs.size())\n",
    "#         output = net(inputs)\n",
    "#         loss = criterion(output.squeeze(), labels.float())\n",
    "#         loss.backward()\n",
    "#         nn.utils.clip_grad_norm_(net.parameters(), clip)\n",
    "#         optimizer.step()\n",
    "        \n",
    "#         if counter%5 == 0:\n",
    "#             val_h = net.init_hidden(BATCH_SIZE)\n",
    "#             val_losses = []\n",
    "#             net.eval()\n",
    "#             for inp, lab in valid_dataloader:\n",
    "#                 # val_h = tuple([each.data for each in val_h])\n",
    "#                 out = net(inp)\n",
    "#                 val_loss = criterion(out.squeeze(), lab.float())\n",
    "#                 val_losses.append(val_loss.item())\n",
    "                \n",
    "#             net.train()\n",
    "#             print(\"Epoch: {}/{}...\".format(i+1, EPOCHS),\n",
    "#                   \"Step: {}...\".format(counter),\n",
    "#                   \"Loss: {:.6f}...\".format(loss.item()),\n",
    "#                   \"Val Loss: {:.6f}\".format(np.mean(val_losses)))\n",
    "#     print('')"
   ]
  },
  {
   "cell_type": "code",
   "execution_count": 4,
   "id": "a7027d4c-9ae1-458e-a098-19a607a8a06e",
   "metadata": {},
   "outputs": [],
   "source": [
    "test=['twitter-test1.txt','twitter-test2.txt','twitter-test3.txt']\n",
    "dev=['twitter-dev-data.txt']\n",
    "data = {}\n",
    "tweetids = {}\n",
    "tweetgts = {}\n",
    "tweets = {}\n",
    "\n",
    "for dataset in ['twitter-training-data.txt'] + test + dev:\n",
    "    data[dataset] = []\n",
    "    tweets[dataset] = []\n",
    "    tweetids[dataset] = []\n",
    "    tweetgts[dataset] = []\n",
    "    \n",
    "    with open(dataset, encoding='utf8') as file:\n",
    "        for check in file:\n",
    "            senti=check.split('\\t')\n",
    "            tweetids[dataset].append(int(senti[0]))\n",
    "            \n",
    "            if (senti[1] == 'positive'):\n",
    "                tweetgts[dataset].append([0,0,1])\n",
    "            elif (senti[1] == 'neutral'):\n",
    "                tweetgts[dataset].append([1,0,0])\n",
    "            else:\n",
    "                tweetgts[dataset].append([0,1,0])\n",
    "            tweets[dataset].append(senti[2])"
   ]
  },
  {
   "cell_type": "code",
   "execution_count": 8,
   "id": "81923f8c-cb1e-4b20-8c3f-66ecc158811e",
   "metadata": {},
   "outputs": [],
   "source": [
    "tokenizer = get_tokenizer('basic_english')\n",
    "tokens= tokenizer('my name is tushar')"
   ]
  },
  {
   "cell_type": "code",
   "execution_count": 13,
   "id": "94fb38cf-16d4-43a7-bd22-5300483daf80",
   "metadata": {},
   "outputs": [],
   "source": [
    "class Words:\n",
    "    def __init__(self, sentence, oov=\"<oov>\", pad=\"<pad>\"):\n",
    "        self.sent=sentence\n",
    "        self.oov=oov\n",
    "        self.pad=pad\n",
    "        self.map={}\n",
    "        self.size=0\n",
    "        \n",
    "    def check(self):\n",
    "        self.map[self.oov]=1\n",
    "        self.map[self.pad]=0\n",
    "        self.size=2\n",
    "        tokenize=[]\n",
    "        count=2\n",
    "        for se in self.sent:\n",
    "            for word in tokenizer(se):\n",
    "                tokenize.append(word)\n",
    "        \n",
    "        for token in tokenize:\n",
    "            if token not in self.map:\n",
    "                self.map[token]=count\n",
    "                count += 1\n",
    "                self.size += 1\n",
    "        return self.map\n",
    "        "
   ]
  },
  {
   "cell_type": "code",
   "execution_count": 12,
   "id": "fbc2520e-bbb4-487e-bcab-ded823cc6c9f",
   "metadata": {},
   "outputs": [
    {
     "data": {
      "text/plain": [
       "['is', 'my', 'name', 'tushar']"
      ]
     },
     "execution_count": 12,
     "metadata": {},
     "output_type": "execute_result"
    }
   ],
   "source": [
    "tokens"
   ]
  },
  {
   "cell_type": "code",
   "execution_count": null,
   "id": "3c791012-a345-4958-9f8d-f2169fa70652",
   "metadata": {},
   "outputs": [],
   "source": []
  }
 ],
 "metadata": {
  "kernelspec": {
   "display_name": "Python 3 (ipykernel)",
   "language": "python",
   "name": "python3"
  },
  "language_info": {
   "codemirror_mode": {
    "name": "ipython",
    "version": 3
   },
   "file_extension": ".py",
   "mimetype": "text/x-python",
   "name": "python",
   "nbconvert_exporter": "python",
   "pygments_lexer": "ipython3",
   "version": "3.8.12"
  }
 },
 "nbformat": 4,
 "nbformat_minor": 5
}
