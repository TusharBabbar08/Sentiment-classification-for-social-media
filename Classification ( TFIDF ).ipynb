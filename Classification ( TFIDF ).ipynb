{
 "cells": [
  {
   "cell_type": "markdown",
   "id": "0c575d7e-9e70-489f-aefe-83c9a430fcbe",
   "metadata": {},
   "source": [
    "# Importing the necessary Libraries"
   ]
  },
  {
   "cell_type": "code",
   "execution_count": 1,
   "id": "43d75898-799f-429e-b1ae-f00a20c96081",
   "metadata": {},
   "outputs": [],
   "source": [
    "\n",
    "import numpy as np\n",
    "import pandas as pd\n",
    "\n",
    "import re\n",
    "\n",
    "from sklearn.model_selection import train_test_split\n",
    "from sklearn.metrics import accuracy_score\n",
    "\n",
    "import nltk\n",
    "from nltk.tokenize import word_tokenize\n",
    "\n",
    "import warnings\n",
    "warnings.filterwarnings('ignore')"
   ]
  },
  {
   "cell_type": "markdown",
   "id": "8d47538e-b03c-40f9-a4dc-79239b5f6878",
   "metadata": {},
   "source": [
    "# Reading the Datasets\n",
    "\n",
    "### Please change the test path with the required testing sets "
   ]
  },
  {
   "cell_type": "code",
   "execution_count": 2,
   "id": "fbd8957f-22a9-4893-ac22-b1b98410ff02",
   "metadata": {},
   "outputs": [],
   "source": [
    "train_path = \"twitter-training-data.txt\"\n",
    "test_path = \"twitter-dev-data.txt\""
   ]
  },
  {
   "cell_type": "code",
   "execution_count": 3,
   "id": "1ffc2d33-d571-4c51-800c-c0f692e3a2eb",
   "metadata": {},
   "outputs": [],
   "source": [
    "train_df = pd.read_csv(train_path,sep='\\t',header=None)"
   ]
  },
  {
   "cell_type": "code",
   "execution_count": 4,
   "id": "4e6b3deb-4ebe-436e-be1e-9a261775c342",
   "metadata": {},
   "outputs": [],
   "source": [
    "test_df = pd.read_csv(test_path,sep='\\t',header=None)"
   ]
  },
  {
   "cell_type": "code",
   "execution_count": 5,
   "id": "33c28b6b-a286-45fe-be9a-e8d252e44d5b",
   "metadata": {},
   "outputs": [],
   "source": [
    "# train_df = train_df.drop(columns=[0])"
   ]
  },
  {
   "cell_type": "code",
   "execution_count": 6,
   "id": "d4cfc39f-ad68-4ef2-bd7c-3b7c0e9a66dd",
   "metadata": {},
   "outputs": [],
   "source": [
    "train_df = train_df.rename(columns={0:'ID',1: \"Sentiment\",2:'Tweets'})"
   ]
  },
  {
   "cell_type": "code",
   "execution_count": 7,
   "id": "ec70f31c-dabc-4b58-af4c-b7c9024f9152",
   "metadata": {},
   "outputs": [],
   "source": [
    "test_df = test_df.rename(columns={0:'ID',1: \"Sentiment\",2:'Tweets'})"
   ]
  },
  {
   "cell_type": "code",
   "execution_count": 8,
   "id": "d051d41e-fac8-4cbd-9d9c-d5ea50401c16",
   "metadata": {},
   "outputs": [
    {
     "data": {
      "text/html": [
       "<div>\n",
       "<style scoped>\n",
       "    .dataframe tbody tr th:only-of-type {\n",
       "        vertical-align: middle;\n",
       "    }\n",
       "\n",
       "    .dataframe tbody tr th {\n",
       "        vertical-align: top;\n",
       "    }\n",
       "\n",
       "    .dataframe thead th {\n",
       "        text-align: right;\n",
       "    }\n",
       "</style>\n",
       "<table border=\"1\" class=\"dataframe\">\n",
       "  <thead>\n",
       "    <tr style=\"text-align: right;\">\n",
       "      <th></th>\n",
       "      <th>ID</th>\n",
       "      <th>Sentiment</th>\n",
       "      <th>Tweets</th>\n",
       "    </tr>\n",
       "  </thead>\n",
       "  <tbody>\n",
       "    <tr>\n",
       "      <th>0</th>\n",
       "      <td>335104872099066692</td>\n",
       "      <td>positive</td>\n",
       "      <td>Felt privileged to play Foo Fighters songs on ...</td>\n",
       "    </tr>\n",
       "    <tr>\n",
       "      <th>1</th>\n",
       "      <td>796528524030124618</td>\n",
       "      <td>positive</td>\n",
       "      <td>@AaqibAfzaal Pakistan may be an Islamic countr...</td>\n",
       "    </tr>\n",
       "    <tr>\n",
       "      <th>2</th>\n",
       "      <td>760964834217238632</td>\n",
       "      <td>positive</td>\n",
       "      <td>Happy Birthday to the coolest golfer in Bali! ...</td>\n",
       "    </tr>\n",
       "    <tr>\n",
       "      <th>3</th>\n",
       "      <td>147713180324524046</td>\n",
       "      <td>negative</td>\n",
       "      <td>@SimpplyA TMILLS is going to Tucson! But the 2...</td>\n",
       "    </tr>\n",
       "    <tr>\n",
       "      <th>4</th>\n",
       "      <td>732302280474120023</td>\n",
       "      <td>negative</td>\n",
       "      <td>Hmmmmm where are the #BlackLivesMatter when ma...</td>\n",
       "    </tr>\n",
       "  </tbody>\n",
       "</table>\n",
       "</div>"
      ],
      "text/plain": [
       "                   ID Sentiment  \\\n",
       "0  335104872099066692  positive   \n",
       "1  796528524030124618  positive   \n",
       "2  760964834217238632  positive   \n",
       "3  147713180324524046  negative   \n",
       "4  732302280474120023  negative   \n",
       "\n",
       "                                              Tweets  \n",
       "0  Felt privileged to play Foo Fighters songs on ...  \n",
       "1  @AaqibAfzaal Pakistan may be an Islamic countr...  \n",
       "2  Happy Birthday to the coolest golfer in Bali! ...  \n",
       "3  @SimpplyA TMILLS is going to Tucson! But the 2...  \n",
       "4  Hmmmmm where are the #BlackLivesMatter when ma...  "
      ]
     },
     "execution_count": 8,
     "metadata": {},
     "output_type": "execute_result"
    }
   ],
   "source": [
    "train_df.head()"
   ]
  },
  {
   "cell_type": "markdown",
   "id": "32ffeebd-ea4d-4b3b-9121-e4fd47fce453",
   "metadata": {},
   "source": [
    "# Preprocessing Data (Cleaning tweets)"
   ]
  },
  {
   "cell_type": "code",
   "execution_count": 9,
   "id": "7588cccd-e211-4765-91c4-4dd4f5205fe9",
   "metadata": {},
   "outputs": [],
   "source": [
    "import re\n",
    "\n",
    "\n",
    "def cleanup_text(texts):\n",
    "    '''\n",
    "    Pre-processed the tweets and returns a clean tweets after\n",
    "    replacing and removing the unwanted bits and pieces from the tweet.\n",
    "    '''\n",
    "    cleaned_text = []\n",
    "    for text in texts:\n",
    "        # remove ugly &quot and &amp\n",
    "        text = re.sub(r\"&quot;(.*?)&quot;\", \"\\g<1>\", text)\n",
    "        text = re.sub(r\"&amp;\", \"\", text)\n",
    "\n",
    "        # replace emoticon\n",
    "        text = re.sub(\n",
    "            r\"(^| )(\\:\\w+\\:|\\<[\\/\\\\]?3|[\\(\\)\\\\\\D|\\*\\$][\\-\\^]?[\\:\\;\\=]|[\\:\\;\\=B8][\\-\\^]?[3DOPp\\@\\$\\*\\\\\\)\\(\\/\\|])(?=\\s|[\\!\\.\\?]|$)\",\n",
    "            \"\\g<1>TOKEMOTICON\",\n",
    "            text,\n",
    "        )\n",
    "\n",
    "        text = text.lower()\n",
    "        text = text.replace(\"tokemoticon\", \"TOKEMOTICON\")\n",
    "\n",
    "        # replace url\n",
    "        text = re.sub(\n",
    "            r\"(http|ftp|https)://([\\w_-]+(?:(?:\\.[\\w_-]+)+))([\\w.,@?^=%&:/~+#-]*[\\w@?^=%&/~+#-])?\",\n",
    "            \"TOKURL\",\n",
    "            text,\n",
    "        )\n",
    "\n",
    "        # replace mention\n",
    "        text = re.sub(r\"@[\\w]+\", \"TOKMENTION\", text)\n",
    "\n",
    "        # replace hashtag\n",
    "        text = re.sub(r\"#[\\w]+\", \"TOKTAG\", text)\n",
    "\n",
    "        # replace dollar\n",
    "        text = re.sub(r\"\\£\\d+\", \"TOKPOUND\", text)\n",
    "\n",
    "        # remove punctuation\n",
    "        text = re.sub(\"[^a-zA-Z0-9]\", \" \", text)\n",
    "\n",
    "        # remove multiple spaces\n",
    "        text = re.sub(r\" +\", \" \", text)\n",
    "\n",
    "        # remove newline\n",
    "        text = re.sub(r\"\\n\", \" \", text)\n",
    "        \n",
    "        #Remove Digits\n",
    "        text= re.sub('[0-9\\n]',' ',text)\n",
    "\n",
    "        cleaned_text.append(text)\n",
    "    return cleaned_text"
   ]
  },
  {
   "cell_type": "code",
   "execution_count": 10,
   "id": "37f793d2-7c50-4acc-a2ce-bde3e95d46d1",
   "metadata": {},
   "outputs": [],
   "source": [
    "## Encoding Positive, Neutral and Negative to 1,0,2 respectively \n",
    "train_df['Sentiment']=train_df['Sentiment'].replace(to_replace=\"positive\",value=\"1\")\n",
    "train_df['Sentiment']=train_df['Sentiment'].replace(to_replace=\"negative\",value=\"2\")\n",
    "train_df['Sentiment']=train_df['Sentiment'].replace(to_replace=\"neutral\",value=\"0\")"
   ]
  },
  {
   "cell_type": "code",
   "execution_count": 11,
   "id": "3fbd06f5-e0bb-4ea9-b8e7-65d730421078",
   "metadata": {},
   "outputs": [],
   "source": [
    "train_df['clean']=cleanup_text(train_df['Tweets'])"
   ]
  },
  {
   "cell_type": "code",
   "execution_count": 12,
   "id": "74402abb-248c-498e-b7c6-8f66c59dfc9b",
   "metadata": {},
   "outputs": [
    {
     "data": {
      "text/html": [
       "<div>\n",
       "<style scoped>\n",
       "    .dataframe tbody tr th:only-of-type {\n",
       "        vertical-align: middle;\n",
       "    }\n",
       "\n",
       "    .dataframe tbody tr th {\n",
       "        vertical-align: top;\n",
       "    }\n",
       "\n",
       "    .dataframe thead th {\n",
       "        text-align: right;\n",
       "    }\n",
       "</style>\n",
       "<table border=\"1\" class=\"dataframe\">\n",
       "  <thead>\n",
       "    <tr style=\"text-align: right;\">\n",
       "      <th></th>\n",
       "      <th>ID</th>\n",
       "      <th>Sentiment</th>\n",
       "      <th>Tweets</th>\n",
       "      <th>clean</th>\n",
       "    </tr>\n",
       "  </thead>\n",
       "  <tbody>\n",
       "    <tr>\n",
       "      <th>0</th>\n",
       "      <td>335104872099066692</td>\n",
       "      <td>1</td>\n",
       "      <td>Felt privileged to play Foo Fighters songs on ...</td>\n",
       "      <td>felt privileged to play foo fighters songs on ...</td>\n",
       "    </tr>\n",
       "    <tr>\n",
       "      <th>1</th>\n",
       "      <td>796528524030124618</td>\n",
       "      <td>1</td>\n",
       "      <td>@AaqibAfzaal Pakistan may be an Islamic countr...</td>\n",
       "      <td>TOKMENTION pakistan may be an islamic country ...</td>\n",
       "    </tr>\n",
       "    <tr>\n",
       "      <th>2</th>\n",
       "      <td>760964834217238632</td>\n",
       "      <td>1</td>\n",
       "      <td>Happy Birthday to the coolest golfer in Bali! ...</td>\n",
       "      <td>happy birthday to the coolest golfer in bali T...</td>\n",
       "    </tr>\n",
       "    <tr>\n",
       "      <th>3</th>\n",
       "      <td>147713180324524046</td>\n",
       "      <td>2</td>\n",
       "      <td>@SimpplyA TMILLS is going to Tucson! But the 2...</td>\n",
       "      <td>TOKMENTION tmills is going to tucson but the  ...</td>\n",
       "    </tr>\n",
       "    <tr>\n",
       "      <th>4</th>\n",
       "      <td>732302280474120023</td>\n",
       "      <td>2</td>\n",
       "      <td>Hmmmmm where are the #BlackLivesMatter when ma...</td>\n",
       "      <td>hmmmmm where are the TOKTAG when matters like ...</td>\n",
       "    </tr>\n",
       "    <tr>\n",
       "      <th>...</th>\n",
       "      <td>...</td>\n",
       "      <td>...</td>\n",
       "      <td>...</td>\n",
       "      <td>...</td>\n",
       "    </tr>\n",
       "    <tr>\n",
       "      <th>45021</th>\n",
       "      <td>660374218263817235</td>\n",
       "      <td>0</td>\n",
       "      <td>Sunday Cinema | Paul McCartney &amp;amp; David Gil...</td>\n",
       "      <td>sunday cinema paul mccartney david gilmour pau...</td>\n",
       "    </tr>\n",
       "    <tr>\n",
       "      <th>45022</th>\n",
       "      <td>739323365061217061</td>\n",
       "      <td>0</td>\n",
       "      <td>14-Aug  The day of independence,  The day of S...</td>\n",
       "      <td>aug the day of independence the day of sacr...</td>\n",
       "    </tr>\n",
       "    <tr>\n",
       "      <th>45023</th>\n",
       "      <td>681369726697754114</td>\n",
       "      <td>1</td>\n",
       "      <td>9 September has arrived, which means Apple's n...</td>\n",
       "      <td>september has arrived which means apple s ne...</td>\n",
       "    </tr>\n",
       "    <tr>\n",
       "      <th>45024</th>\n",
       "      <td>922217029064536808</td>\n",
       "      <td>1</td>\n",
       "      <td>So I'll see you all tomorrow for some fun fill...</td>\n",
       "      <td>so i ll see you all tomorrow for some fun fill...</td>\n",
       "    </tr>\n",
       "    <tr>\n",
       "      <th>45025</th>\n",
       "      <td>606913141028836185</td>\n",
       "      <td>0</td>\n",
       "      <td>Alright: who's choosing Paul McCartney over th...</td>\n",
       "      <td>alright who s choosing paul mccartney over the...</td>\n",
       "    </tr>\n",
       "  </tbody>\n",
       "</table>\n",
       "<p>45026 rows × 4 columns</p>\n",
       "</div>"
      ],
      "text/plain": [
       "                       ID Sentiment  \\\n",
       "0      335104872099066692         1   \n",
       "1      796528524030124618         1   \n",
       "2      760964834217238632         1   \n",
       "3      147713180324524046         2   \n",
       "4      732302280474120023         2   \n",
       "...                   ...       ...   \n",
       "45021  660374218263817235         0   \n",
       "45022  739323365061217061         0   \n",
       "45023  681369726697754114         1   \n",
       "45024  922217029064536808         1   \n",
       "45025  606913141028836185         0   \n",
       "\n",
       "                                                  Tweets  \\\n",
       "0      Felt privileged to play Foo Fighters songs on ...   \n",
       "1      @AaqibAfzaal Pakistan may be an Islamic countr...   \n",
       "2      Happy Birthday to the coolest golfer in Bali! ...   \n",
       "3      @SimpplyA TMILLS is going to Tucson! But the 2...   \n",
       "4      Hmmmmm where are the #BlackLivesMatter when ma...   \n",
       "...                                                  ...   \n",
       "45021  Sunday Cinema | Paul McCartney &amp; David Gil...   \n",
       "45022  14-Aug  The day of independence,  The day of S...   \n",
       "45023  9 September has arrived, which means Apple's n...   \n",
       "45024  So I'll see you all tomorrow for some fun fill...   \n",
       "45025  Alright: who's choosing Paul McCartney over th...   \n",
       "\n",
       "                                                   clean  \n",
       "0      felt privileged to play foo fighters songs on ...  \n",
       "1      TOKMENTION pakistan may be an islamic country ...  \n",
       "2      happy birthday to the coolest golfer in bali T...  \n",
       "3      TOKMENTION tmills is going to tucson but the  ...  \n",
       "4      hmmmmm where are the TOKTAG when matters like ...  \n",
       "...                                                  ...  \n",
       "45021  sunday cinema paul mccartney david gilmour pau...  \n",
       "45022     aug the day of independence the day of sacr...  \n",
       "45023    september has arrived which means apple s ne...  \n",
       "45024  so i ll see you all tomorrow for some fun fill...  \n",
       "45025  alright who s choosing paul mccartney over the...  \n",
       "\n",
       "[45026 rows x 4 columns]"
      ]
     },
     "execution_count": 12,
     "metadata": {},
     "output_type": "execute_result"
    }
   ],
   "source": [
    "train_df"
   ]
  },
  {
   "cell_type": "code",
   "execution_count": 13,
   "id": "9b05bcb5-a7a0-48b0-b8c5-0a613f8bbc4b",
   "metadata": {},
   "outputs": [],
   "source": [
    "test_df['Sentiment']=test_df['Sentiment'].replace(to_replace=\"positive\",value=\"1\")\n",
    "test_df['Sentiment']=test_df['Sentiment'].replace(to_replace=\"negative\",value=\"2\")\n",
    "test_df['Sentiment']=test_df['Sentiment'].replace(to_replace=\"neutral\",value=\"0\")"
   ]
  },
  {
   "cell_type": "markdown",
   "id": "d6a72a6e-6dbe-4e13-b28f-55b0b98f0e0b",
   "metadata": {},
   "source": [
    "# Imputing TF-IDF Vectorizer"
   ]
  },
  {
   "cell_type": "code",
   "execution_count": 14,
   "id": "bea11590-cdc7-4911-9153-33b2cd4b0421",
   "metadata": {},
   "outputs": [],
   "source": [
    "\n",
    "from sklearn.feature_extraction.text import TfidfVectorizer\n",
    "cv=TfidfVectorizer(min_df = 5,\n",
    "                             max_df = 0.8,\n",
    "                             sublinear_tf = True,\n",
    "                             use_idf = True)"
   ]
  },
  {
   "cell_type": "code",
   "execution_count": 15,
   "id": "29ff8b54-49f4-4f21-8f06-2e9765a5f553",
   "metadata": {},
   "outputs": [],
   "source": [
    "X=cv.fit_transform(train_df['clean']).toarray()"
   ]
  },
  {
   "cell_type": "code",
   "execution_count": 16,
   "id": "c4ca05ee-6ed6-4448-bf51-e49637a4b7dc",
   "metadata": {},
   "outputs": [],
   "source": [
    "y=train_df['Sentiment']"
   ]
  },
  {
   "cell_type": "code",
   "execution_count": 17,
   "id": "c45b7761-a920-407c-8c71-f879f91ce08b",
   "metadata": {},
   "outputs": [
    {
     "data": {
      "text/plain": [
       "array([[0., 0., 0., ..., 0., 0., 0.],\n",
       "       [0., 0., 0., ..., 0., 0., 0.],\n",
       "       [0., 0., 0., ..., 0., 0., 0.],\n",
       "       ...,\n",
       "       [0., 0., 0., ..., 0., 0., 0.],\n",
       "       [0., 0., 0., ..., 0., 0., 0.],\n",
       "       [0., 0., 0., ..., 0., 0., 0.]])"
      ]
     },
     "execution_count": 17,
     "metadata": {},
     "output_type": "execute_result"
    }
   ],
   "source": [
    "X"
   ]
  },
  {
   "cell_type": "code",
   "execution_count": 18,
   "id": "19f21845-8a7a-40b5-909d-8b6191ab4997",
   "metadata": {},
   "outputs": [],
   "source": [
    "x_test=cv.transform(cleanup_text(test_df['Tweets'])).toarray()"
   ]
  },
  {
   "cell_type": "code",
   "execution_count": 19,
   "id": "9c222af7-3e58-4ec8-849c-152fb1cdb9c0",
   "metadata": {},
   "outputs": [],
   "source": [
    "y_test=test_df['Sentiment']"
   ]
  },
  {
   "cell_type": "markdown",
   "id": "fa2cf2bc-8730-420e-9109-fe8ee1ae7800",
   "metadata": {},
   "source": [
    "# Multinomial Naive Bayes Classifier"
   ]
  },
  {
   "cell_type": "code",
   "execution_count": 20,
   "id": "54e41896-abbf-482d-99e9-6836d50b8d55",
   "metadata": {},
   "outputs": [],
   "source": [
    "from sklearn.naive_bayes import MultinomialNB\n",
    "clf=MultinomialNB()"
   ]
  },
  {
   "cell_type": "code",
   "execution_count": 21,
   "id": "e4620667-635f-4380-bec2-90c3be9a0803",
   "metadata": {},
   "outputs": [
    {
     "data": {
      "text/plain": [
       "MultinomialNB()"
      ]
     },
     "execution_count": 21,
     "metadata": {},
     "output_type": "execute_result"
    }
   ],
   "source": [
    "clf.fit(X,y)"
   ]
  },
  {
   "cell_type": "code",
   "execution_count": 22,
   "id": "d53524ae-4fd5-4dc0-bdd1-bc324ed22a49",
   "metadata": {},
   "outputs": [],
   "source": [
    "y_pred = clf.predict(x_test)"
   ]
  },
  {
   "cell_type": "code",
   "execution_count": 23,
   "id": "5542e136-b400-4922-b78d-164b3f9a6cf3",
   "metadata": {},
   "outputs": [
    {
     "name": "stdout",
     "output_type": "stream",
     "text": [
      "Accuracy for Multinomial Naive Bayes Classifier is:  62.75 %\n"
     ]
    }
   ],
   "source": [
    "#Import scikit-learn metrics module for accuracy calculation\n",
    "from sklearn import metrics\n",
    "\n",
    "# Model Accuracy, how often is the classifier correct?\n",
    "print(\"Accuracy for Multinomial Naive Bayes Classifier is: \", round((metrics.accuracy_score(y_test, y_pred))*100,2), '%')"
   ]
  },
  {
   "cell_type": "markdown",
   "id": "2e237bc4-0500-4c31-8290-2cf98e8ec1e7",
   "metadata": {},
   "source": [
    "# Logistic Regression Classifier (Maximum Entropy)"
   ]
  },
  {
   "cell_type": "code",
   "execution_count": 24,
   "id": "12520278-dc53-456a-b5d7-8b47d6b6fc13",
   "metadata": {},
   "outputs": [],
   "source": [
    "from sklearn.linear_model import LogisticRegression #Maximum Entropy"
   ]
  },
  {
   "cell_type": "code",
   "execution_count": 25,
   "id": "345de892-2c6b-43fa-af50-d03db89b75e4",
   "metadata": {},
   "outputs": [],
   "source": [
    "clf = LogisticRegression(random_state=0).fit(X, y)\n",
    "\n",
    "y_pred = clf.predict(x_test)\n"
   ]
  },
  {
   "cell_type": "code",
   "execution_count": 26,
   "id": "69dc85cc-a533-4006-bdb6-535edc8e4e05",
   "metadata": {},
   "outputs": [
    {
     "name": "stdout",
     "output_type": "stream",
     "text": [
      "Accuracy for Logistic Regression Classifier is:  65.8 %\n"
     ]
    }
   ],
   "source": [
    "#Import scikit-learn metrics module for accuracy calculation\n",
    "from sklearn import metrics\n",
    "\n",
    "# Model Accuracy, how often is the classifier correct?\n",
    "print(\"Accuracy for Logistic Regression Classifier is: \", round((metrics.accuracy_score(y_test, y_pred))*100,2), '%')"
   ]
  },
  {
   "cell_type": "markdown",
   "id": "0c119d10-d80e-4a71-bc65-d984faf6ceee",
   "metadata": {},
   "source": [
    "# Gaussian Naive Bayes Model"
   ]
  },
  {
   "cell_type": "code",
   "execution_count": 27,
   "id": "211cbcd8-fb14-4814-b5c7-392eeb96bd6f",
   "metadata": {},
   "outputs": [],
   "source": [
    "#Import Gaussian Naive Bayes model\n",
    "from sklearn.naive_bayes import GaussianNB\n",
    "\n",
    "#Create a Gaussian Classifier\n",
    "gnb = GaussianNB()\n",
    "\n",
    "#Train the model using the training sets\n",
    "gnb.fit(X, y)\n",
    "\n",
    "#Predict the response for test dataset\n",
    "y_pred = gnb.predict(x_test)"
   ]
  },
  {
   "cell_type": "code",
   "execution_count": 28,
   "id": "a6f97990-7224-401a-89dd-98dea49a11fa",
   "metadata": {},
   "outputs": [
    {
     "name": "stdout",
     "output_type": "stream",
     "text": [
      "Accuracy for Gaussian Naive Bayes Classifier is:  31.6 %\n"
     ]
    }
   ],
   "source": [
    "#Import scikit-learn metrics module for accuracy calculation\n",
    "from sklearn import metrics\n",
    "\n",
    "# Model Accuracy, how often is the classifier correct?\n",
    "print(\"Accuracy for Gaussian Naive Bayes Classifier is: \", round((metrics.accuracy_score(y_test, y_pred))*100,2), '%')"
   ]
  },
  {
   "cell_type": "code",
   "execution_count": null,
   "id": "f0d7c3f9-a53b-4fba-ad86-6871f6b561e4",
   "metadata": {},
   "outputs": [],
   "source": []
  },
  {
   "cell_type": "code",
   "execution_count": null,
   "id": "29c049d2-e4ce-4172-840a-9a69cd299493",
   "metadata": {},
   "outputs": [],
   "source": []
  }
 ],
 "metadata": {
  "kernelspec": {
   "display_name": "Python 3 (ipykernel)",
   "language": "python",
   "name": "python3"
  },
  "language_info": {
   "codemirror_mode": {
    "name": "ipython",
    "version": 3
   },
   "file_extension": ".py",
   "mimetype": "text/x-python",
   "name": "python",
   "nbconvert_exporter": "python",
   "pygments_lexer": "ipython3",
   "version": "3.8.12"
  }
 },
 "nbformat": 4,
 "nbformat_minor": 5
}
